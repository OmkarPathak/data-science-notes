{
 "cells": [
  {
   "cell_type": "code",
   "execution_count": 1,
   "id": "a7ade99d-8a69-4d2c-bffd-bb57e73a7484",
   "metadata": {},
   "outputs": [],
   "source": [
    "import numpy as np"
   ]
  },
  {
   "cell_type": "markdown",
   "id": "af9f42c0-b74b-4e73-b267-9f3ada9e3fc9",
   "metadata": {},
   "source": [
    "# Array Creation"
   ]
  },
  {
   "cell_type": "code",
   "execution_count": 5,
   "id": "cc8fd796-c4c1-42fa-8754-e4bab7f5caf1",
   "metadata": {},
   "outputs": [
    {
     "data": {
      "text/plain": [
       "array([1, 2, 3, 4])"
      ]
     },
     "execution_count": 5,
     "metadata": {},
     "output_type": "execute_result"
    }
   ],
   "source": [
    "# creating one-dimensional array from a python list\n",
    "_list = [1,2,3,4]\n",
    "\n",
    "arr = np.array(_list)\n",
    "arr"
   ]
  },
  {
   "cell_type": "code",
   "execution_count": 7,
   "id": "bb1604de-2fa4-4287-a3cb-892ba3aecd1d",
   "metadata": {},
   "outputs": [
    {
     "name": "stdout",
     "output_type": "stream",
     "text": [
      "4\n",
      "1\n",
      "int64\n"
     ]
    }
   ],
   "source": [
    "print(arr.size)   # len of the numpy array\n",
    "print(arr.ndim)   # number of dimensions\n",
    "print(arr.dtype)  # data type of the array"
   ]
  },
  {
   "cell_type": "code",
   "execution_count": 8,
   "id": "227c4e23-f54a-4406-bf93-a2ef2dbf97ae",
   "metadata": {},
   "outputs": [
    {
     "data": {
      "text/plain": [
       "array([[0., 0., 0.],\n",
       "       [0., 0., 0.]])"
      ]
     },
     "execution_count": 8,
     "metadata": {},
     "output_type": "execute_result"
    }
   ],
   "source": [
    "np.zeros((2, 3))  # 2x3 array of zeros"
   ]
  },
  {
   "cell_type": "code",
   "execution_count": 9,
   "id": "f11877fc-eaba-4645-b2cb-f8334b60c32a",
   "metadata": {},
   "outputs": [
    {
     "data": {
      "text/plain": [
       "array([[1., 1., 1.],\n",
       "       [1., 1., 1.],\n",
       "       [1., 1., 1.]])"
      ]
     },
     "execution_count": 9,
     "metadata": {},
     "output_type": "execute_result"
    }
   ],
   "source": [
    "np.ones((3, 3))   # 3x3 array of ones"
   ]
  },
  {
   "cell_type": "code",
   "execution_count": 10,
   "id": "987d27f4-d43d-4193-8f2d-113db08faf17",
   "metadata": {},
   "outputs": [
    {
     "data": {
      "text/plain": [
       "array([[1., 0., 0., 0.],\n",
       "       [0., 1., 0., 0.],\n",
       "       [0., 0., 1., 0.],\n",
       "       [0., 0., 0., 1.]])"
      ]
     },
     "execution_count": 10,
     "metadata": {},
     "output_type": "execute_result"
    }
   ],
   "source": [
    "np.eye(4)         # 4x4 identity matrix"
   ]
  },
  {
   "cell_type": "code",
   "execution_count": 11,
   "id": "fed95e2d-25de-4211-b8c1-a5c0b4eb2a60",
   "metadata": {},
   "outputs": [
    {
     "data": {
      "text/plain": [
       "array([0, 1, 2, 3, 4, 5, 6, 7, 8, 9])"
      ]
     },
     "execution_count": 11,
     "metadata": {},
     "output_type": "execute_result"
    }
   ],
   "source": [
    "# create numpy array using range\n",
    "np.arange(0, 10)"
   ]
  },
  {
   "cell_type": "code",
   "execution_count": 12,
   "id": "12641c63-ae30-4475-bf74-c0016e8ce079",
   "metadata": {},
   "outputs": [
    {
     "data": {
      "text/plain": [
       "array([0, 3, 6, 9])"
      ]
     },
     "execution_count": 12,
     "metadata": {},
     "output_type": "execute_result"
    }
   ],
   "source": [
    "np.arange(0, 10, 3)"
   ]
  },
  {
   "cell_type": "code",
   "execution_count": 17,
   "id": "bfd22a20-5dde-4305-b365-991928b12e07",
   "metadata": {},
   "outputs": [
    {
     "data": {
      "text/plain": [
       "array([[3, 7, 2],\n",
       "       [5, 2, 1]], dtype=int32)"
      ]
     },
     "execution_count": 17,
     "metadata": {},
     "output_type": "execute_result"
    }
   ],
   "source": [
    "arr = np.random.randint(1, 10, (2, 3))   # Random ints from 1 to 9 in 2x3\n",
    "arr"
   ]
  },
  {
   "cell_type": "markdown",
   "id": "00fecad3-bbff-48b3-8caa-0f4bfec5a6a5",
   "metadata": {},
   "source": [
    "# Array Inspection"
   ]
  },
  {
   "cell_type": "code",
   "execution_count": 20,
   "id": "97dd9984-d1ab-43f9-bfbd-046ec410602a",
   "metadata": {},
   "outputs": [
    {
     "name": "stdout",
     "output_type": "stream",
     "text": [
      "(2, 3)\n",
      "2\n",
      "6\n",
      "int32\n",
      "4\n",
      "24\n"
     ]
    }
   ],
   "source": [
    "print(arr.shape)       # (2, 3)\n",
    "print(arr.ndim)        # 2\n",
    "print(arr.size)        # 6\n",
    "print(arr.dtype)       # dtype('int64')\n",
    "print(arr.itemsize)    # bytes per element\n",
    "print(arr.nbytes)      # total bytes"
   ]
  },
  {
   "cell_type": "markdown",
   "id": "24f4f999-036f-4807-ba9b-4ef9d6e92e21",
   "metadata": {},
   "source": [
    "# Array Slicing"
   ]
  },
  {
   "cell_type": "code",
   "execution_count": 22,
   "id": "6188df8e-15e2-4056-941e-4945f4951992",
   "metadata": {},
   "outputs": [
    {
     "data": {
      "text/plain": [
       "array([[3, 7, 2],\n",
       "       [5, 2, 1]], dtype=int32)"
      ]
     },
     "execution_count": 22,
     "metadata": {},
     "output_type": "execute_result"
    }
   ],
   "source": [
    "arr"
   ]
  },
  {
   "cell_type": "code",
   "execution_count": 21,
   "id": "fde8da79-d2e3-4610-9db6-09049f2eda30",
   "metadata": {},
   "outputs": [
    {
     "name": "stdout",
     "output_type": "stream",
     "text": [
      "7\n",
      "[5 2 1]\n",
      "[7 2]\n",
      "[[3 2]]\n",
      "[[5 2 1]\n",
      " [3 7 2]]\n"
     ]
    }
   ],
   "source": [
    "print(arr[0, 1])        # Element at row 0, col 1\n",
    "print(arr[1])           # Second row\n",
    "print(arr[:, 1])        # All rows, second column\n",
    "print(arr[::2, ::2])    # Stride slicing\n",
    "print(arr[::-1])        # Reverse array"
   ]
  },
  {
   "cell_type": "markdown",
   "id": "e4b1d85d-ed35-4daa-b65f-e823d94adbd4",
   "metadata": {},
   "source": [
    "# Array reshaping flattening"
   ]
  },
  {
   "cell_type": "code",
   "execution_count": 23,
   "id": "d462b95f-19cd-42a4-984c-883f228e50f6",
   "metadata": {},
   "outputs": [
    {
     "data": {
      "text/plain": [
       "array([[ 0,  1,  2,  3],\n",
       "       [ 4,  5,  6,  7],\n",
       "       [ 8,  9, 10, 11]])"
      ]
     },
     "execution_count": 23,
     "metadata": {},
     "output_type": "execute_result"
    }
   ],
   "source": [
    "arr = np.arange(12).reshape(3, 4)   # Shape (3, 4)\n",
    "arr\n"
   ]
  },
  {
   "cell_type": "code",
   "execution_count": 24,
   "id": "571ebd92-120e-467e-a523-13fa541d284f",
   "metadata": {},
   "outputs": [
    {
     "data": {
      "text/plain": [
       "array([ 0,  1,  2,  3,  4,  5,  6,  7,  8,  9, 10, 11])"
      ]
     },
     "execution_count": 24,
     "metadata": {},
     "output_type": "execute_result"
    }
   ],
   "source": [
    "arr.flatten()                      # 1D version"
   ]
  },
  {
   "cell_type": "code",
   "execution_count": 26,
   "id": "38de517a-12a1-4910-9b8c-89c87cdf3eeb",
   "metadata": {},
   "outputs": [
    {
     "data": {
      "text/plain": [
       "array([ 0,  1,  2,  3,  4,  5,  6,  7,  8,  9, 10, 11])"
      ]
     },
     "execution_count": 26,
     "metadata": {},
     "output_type": "execute_result"
    }
   ],
   "source": [
    "arr.ravel()                        # Similar but returns view"
   ]
  },
  {
   "cell_type": "code",
   "execution_count": 28,
   "id": "ddd19fed-8b21-45bc-a6cb-df7903c63fe6",
   "metadata": {},
   "outputs": [
    {
     "data": {
      "text/plain": [
       "array([[ 0,  4,  8],\n",
       "       [ 1,  5,  9],\n",
       "       [ 2,  6, 10],\n",
       "       [ 3,  7, 11]])"
      ]
     },
     "execution_count": 28,
     "metadata": {},
     "output_type": "execute_result"
    }
   ],
   "source": [
    "arr.T                              # Transpose"
   ]
  },
  {
   "cell_type": "code",
   "execution_count": 29,
   "id": "42122f59-e6f8-42f2-958c-ce05365761a1",
   "metadata": {},
   "outputs": [
    {
     "data": {
      "text/plain": [
       "array([[ 0,  1,  2,  3,  4,  5],\n",
       "       [ 6,  7,  8,  9, 10, 11]])"
      ]
     },
     "execution_count": 29,
     "metadata": {},
     "output_type": "execute_result"
    }
   ],
   "source": [
    "arr.reshape(2, 6)                  # Reshape to 2x6"
   ]
  },
  {
   "cell_type": "code",
   "execution_count": 32,
   "id": "1f337be6-edb8-435f-8725-c150f6c8efc1",
   "metadata": {},
   "outputs": [
    {
     "data": {
      "text/plain": [
       "array([[ 0,  1,  2],\n",
       "       [ 3,  4,  5],\n",
       "       [ 6,  7,  8],\n",
       "       [ 9, 10, 11]])"
      ]
     },
     "execution_count": 32,
     "metadata": {},
     "output_type": "execute_result"
    }
   ],
   "source": [
    "arr.reshape(4,3)"
   ]
  },
  {
   "cell_type": "markdown",
   "id": "774560e8-4ff0-4fde-9d24-854ae8e35d10",
   "metadata": {},
   "source": [
    "# Arithmetic Operations"
   ]
  },
  {
   "cell_type": "code",
   "execution_count": 33,
   "id": "9662a9f2-da75-428d-96bc-bd9c0f3b7e25",
   "metadata": {},
   "outputs": [
    {
     "data": {
      "text/plain": [
       "array([5, 7, 9])"
      ]
     },
     "execution_count": 33,
     "metadata": {},
     "output_type": "execute_result"
    }
   ],
   "source": [
    "x = np.array([1, 2, 3])\n",
    "y = np.array([4, 5, 6])\n",
    "\n",
    "x + y # similar to np.add(x, y)"
   ]
  },
  {
   "cell_type": "code",
   "execution_count": 34,
   "id": "9540aa99-525e-46ac-b4e3-86fcd4462e01",
   "metadata": {},
   "outputs": [
    {
     "data": {
      "text/plain": [
       "array([-3, -3, -3])"
      ]
     },
     "execution_count": 34,
     "metadata": {},
     "output_type": "execute_result"
    }
   ],
   "source": [
    "x - y # similar to np.subtract(x, y)"
   ]
  },
  {
   "cell_type": "code",
   "execution_count": 35,
   "id": "d423d706-79f5-4a6b-b030-d4e106b016f5",
   "metadata": {},
   "outputs": [
    {
     "data": {
      "text/plain": [
       "array([ 4, 10, 18])"
      ]
     },
     "execution_count": 35,
     "metadata": {},
     "output_type": "execute_result"
    }
   ],
   "source": [
    "x * y # similar to np.multiply(x, y)"
   ]
  },
  {
   "cell_type": "code",
   "execution_count": 37,
   "id": "f781b8cc-c9c9-423a-aa19-0ef8a7041f4e",
   "metadata": {},
   "outputs": [
    {
     "data": {
      "text/plain": [
       "array([0.25, 0.4 , 0.5 ])"
      ]
     },
     "execution_count": 37,
     "metadata": {},
     "output_type": "execute_result"
    }
   ],
   "source": [
    "x / y # similar to np.divide(x, y)"
   ]
  },
  {
   "cell_type": "code",
   "execution_count": 38,
   "id": "fa788716-a3a4-4e1d-931e-80c92a4c4a3b",
   "metadata": {},
   "outputs": [
    {
     "data": {
      "text/plain": [
       "array([1.        , 1.41421356, 1.73205081])"
      ]
     },
     "execution_count": 38,
     "metadata": {},
     "output_type": "execute_result"
    }
   ],
   "source": [
    "np.sqrt(x)"
   ]
  },
  {
   "cell_type": "code",
   "execution_count": 39,
   "id": "d8f6fa88-8862-4e12-a3b5-b72e3313cc28",
   "metadata": {},
   "outputs": [
    {
     "data": {
      "text/plain": [
       "array([1, 4, 9])"
      ]
     },
     "execution_count": 39,
     "metadata": {},
     "output_type": "execute_result"
    }
   ],
   "source": [
    "x ** 2 # similar to np.exp(x)"
   ]
  },
  {
   "cell_type": "markdown",
   "id": "efa7c5e4-66ad-485d-8c69-a9763dc2113f",
   "metadata": {},
   "source": [
    "# Statistical Operations"
   ]
  },
  {
   "cell_type": "code",
   "execution_count": 41,
   "id": "59f77314-8c8c-43a8-b057-12a72f9aca2a",
   "metadata": {},
   "outputs": [
    {
     "data": {
      "text/plain": [
       "array([[ 0,  1,  2,  3],\n",
       "       [ 4,  5,  6,  7],\n",
       "       [ 8,  9, 10, 11]])"
      ]
     },
     "execution_count": 41,
     "metadata": {},
     "output_type": "execute_result"
    }
   ],
   "source": [
    "arr"
   ]
  },
  {
   "cell_type": "code",
   "execution_count": 40,
   "id": "f4943f88-82bc-4c32-a1b2-417d56adc473",
   "metadata": {},
   "outputs": [
    {
     "data": {
      "text/plain": [
       "np.float64(5.5)"
      ]
     },
     "execution_count": 40,
     "metadata": {},
     "output_type": "execute_result"
    }
   ],
   "source": [
    "np.mean(arr)"
   ]
  },
  {
   "cell_type": "code",
   "execution_count": 43,
   "id": "f4e287ae-e0fb-4d75-8153-ad839d322b8f",
   "metadata": {},
   "outputs": [
    {
     "data": {
      "text/plain": [
       "np.float64(5.5)"
      ]
     },
     "execution_count": 43,
     "metadata": {},
     "output_type": "execute_result"
    }
   ],
   "source": [
    "np.median(arr)"
   ]
  },
  {
   "cell_type": "code",
   "execution_count": 45,
   "id": "fb9caceb-bca7-4e77-bb47-5e75f2b1fc54",
   "metadata": {},
   "outputs": [
    {
     "data": {
      "text/plain": [
       "np.float64(3.452052529534663)"
      ]
     },
     "execution_count": 45,
     "metadata": {},
     "output_type": "execute_result"
    }
   ],
   "source": [
    "np.std(arr)"
   ]
  },
  {
   "cell_type": "code",
   "execution_count": 46,
   "id": "4f0468ef-d812-4804-b90d-e92131ff8308",
   "metadata": {},
   "outputs": [
    {
     "data": {
      "text/plain": [
       "np.float64(11.916666666666666)"
      ]
     },
     "execution_count": 46,
     "metadata": {},
     "output_type": "execute_result"
    }
   ],
   "source": [
    "np.var(arr)"
   ]
  },
  {
   "cell_type": "code",
   "execution_count": 48,
   "id": "e8d66826-0781-4d8a-97f4-0622b381146a",
   "metadata": {},
   "outputs": [
    {
     "data": {
      "text/plain": [
       "np.int64(0)"
      ]
     },
     "execution_count": 48,
     "metadata": {},
     "output_type": "execute_result"
    }
   ],
   "source": [
    "np.min(arr)"
   ]
  },
  {
   "cell_type": "code",
   "execution_count": 49,
   "id": "25fadc54-b087-4daf-a6dd-7e4922405cf3",
   "metadata": {},
   "outputs": [
    {
     "data": {
      "text/plain": [
       "np.int64(11)"
      ]
     },
     "execution_count": 49,
     "metadata": {},
     "output_type": "execute_result"
    }
   ],
   "source": [
    "np.max(arr)"
   ]
  },
  {
   "cell_type": "code",
   "execution_count": 50,
   "id": "44143e31-32a3-46a2-a2c3-05b21cba9a68",
   "metadata": {},
   "outputs": [
    {
     "data": {
      "text/plain": [
       "array([0, 1, 2, 3])"
      ]
     },
     "execution_count": 50,
     "metadata": {},
     "output_type": "execute_result"
    }
   ],
   "source": [
    "np.min(arr, axis=0) # check rows"
   ]
  },
  {
   "cell_type": "code",
   "execution_count": 51,
   "id": "f7733f4a-bcf7-4564-ba94-8cfeed79c39f",
   "metadata": {},
   "outputs": [
    {
     "data": {
      "text/plain": [
       "array([ 8,  9, 10, 11])"
      ]
     },
     "execution_count": 51,
     "metadata": {},
     "output_type": "execute_result"
    }
   ],
   "source": [
    "np.max(arr, axis=0)"
   ]
  },
  {
   "cell_type": "code",
   "execution_count": 52,
   "id": "0bb70fd4-5428-4c45-a849-11dfb415df7d",
   "metadata": {},
   "outputs": [
    {
     "data": {
      "text/plain": [
       "array([0, 4, 8])"
      ]
     },
     "execution_count": 52,
     "metadata": {},
     "output_type": "execute_result"
    }
   ],
   "source": [
    "np.min(arr, axis=1) # check columns"
   ]
  },
  {
   "cell_type": "markdown",
   "id": "68944b61-deba-42a8-adba-4307742d2059",
   "metadata": {},
   "source": [
    "# Boolean filtering"
   ]
  },
  {
   "cell_type": "code",
   "execution_count": 54,
   "id": "12c44c8a-ce16-49ca-99ae-24fe39a93e4c",
   "metadata": {},
   "outputs": [
    {
     "data": {
      "text/plain": [
       "array([ 4,  5,  6,  7,  8,  9, 10, 11])"
      ]
     },
     "execution_count": 54,
     "metadata": {},
     "output_type": "execute_result"
    }
   ],
   "source": [
    "arr = np.arange(12).reshape(3, 4)\n",
    "mask = arr > 3\n",
    "arr[mask]           # [4 5 6]"
   ]
  },
  {
   "cell_type": "markdown",
   "id": "e3700f8c-09ed-44ad-9d7a-d6c12f8bbae5",
   "metadata": {},
   "source": [
    "# Changing Data type of array"
   ]
  },
  {
   "cell_type": "code",
   "execution_count": 59,
   "id": "6a079058-3585-44da-b784-120eb3cf951c",
   "metadata": {},
   "outputs": [
    {
     "name": "stdout",
     "output_type": "stream",
     "text": [
      "[ 1  2  3  4  5  6  7  8  9 10]\n"
     ]
    }
   ],
   "source": [
    "arr = np.arange(1, 11)\n",
    "print(arr)"
   ]
  },
  {
   "cell_type": "code",
   "execution_count": 60,
   "id": "d1f190df-d819-4d42-8e68-9d970a90d8a1",
   "metadata": {},
   "outputs": [
    {
     "data": {
      "text/plain": [
       "array(['1', '2', '3', '4', '5', '6', '7', '8', '9', '10'], dtype='<U21')"
      ]
     },
     "execution_count": 60,
     "metadata": {},
     "output_type": "execute_result"
    }
   ],
   "source": [
    "arr.astype(str)"
   ]
  },
  {
   "cell_type": "code",
   "execution_count": 62,
   "id": "c5798890-d4ef-4be5-829c-b28898350071",
   "metadata": {},
   "outputs": [
    {
     "data": {
      "text/plain": [
       "array([ True,  True,  True,  True,  True,  True,  True,  True,  True,\n",
       "        True])"
      ]
     },
     "execution_count": 62,
     "metadata": {},
     "output_type": "execute_result"
    }
   ],
   "source": [
    "arr.astype(bool)"
   ]
  }
 ],
 "metadata": {
  "kernelspec": {
   "display_name": "Python 3 (ipykernel)",
   "language": "python",
   "name": "python3"
  },
  "language_info": {
   "codemirror_mode": {
    "name": "ipython",
    "version": 3
   },
   "file_extension": ".py",
   "mimetype": "text/x-python",
   "name": "python",
   "nbconvert_exporter": "python",
   "pygments_lexer": "ipython3",
   "version": "3.10.11"
  }
 },
 "nbformat": 4,
 "nbformat_minor": 5
}
